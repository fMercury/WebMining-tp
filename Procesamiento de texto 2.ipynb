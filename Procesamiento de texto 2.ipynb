{
 "cells": [
  {
   "cell_type": "markdown",
   "metadata": {},
   "source": [
    "# Dataset 20 newsgroups\n",
    "El dataset 20 Newsgroups es una colección de aproximadamente 20.000 documentos de grupos de noticias, particionados en 20 diferentes temas (aproximadamente balanceado).\n",
    "\n",
    "Algunos temas están bastante relacionados con otros (por ejemplo comp.sys.ibm.pc.hardware y comp.sys.mac.hardware), mientras que otros son muy diferentes (por ejemplo misc.forsale y soc.religion.christian):\n",
    "\n",
    " - comp.graphics\n",
    " - comp.os.ms-windows.misc\n",
    " - comp.sys.ibm.pc.hardware\n",
    " - comp.sys.mac.hardware\n",
    " - comp.windows.x\n",
    " \n",
    " - rec.autos\n",
    " - rec.motorcycles\n",
    " - rec.sport.baseball\n",
    " - rec.sport.hockey\tsci.crypt\n",
    " \n",
    " - sci.electronics\n",
    " - sci.med\n",
    " - sci.space\n",
    " \n",
    " - misc.forsale\n",
    " \n",
    " - talk.politics.misc\n",
    " - talk.politics.guns\n",
    " - talk.politics.mideast\n",
    " \n",
    " - talk.religion.misc\n",
    " - alt.atheism\n",
    " - soc.religion.christian\n"
   ]
  },
  {
   "cell_type": "markdown",
   "metadata": {},
   "source": [
    "## Carga de datos\n",
    "Usamos el dataset 20 newsgroups que está disponible en la biblioteca datasets de sklearn"
   ]
  },
  {
   "cell_type": "code",
   "execution_count": 2,
   "metadata": {
    "scrolled": true
   },
   "outputs": [],
   "source": [
    "#Loading the data set - training data.\n",
    "from sklearn.datasets import fetch_20newsgroups\n",
    "twenty_train = fetch_20newsgroups(subset='train', shuffle=True)"
   ]
  },
  {
   "cell_type": "markdown",
   "metadata": {},
   "source": [
    "Podemos chequear los nombres de las clases asociadas a cada documento con el siguiente comando"
   ]
  },
  {
   "cell_type": "code",
   "execution_count": 3,
   "metadata": {
    "scrolled": true
   },
   "outputs": [
    {
     "data": {
      "text/plain": [
       "['alt.atheism',\n",
       " 'comp.graphics',\n",
       " 'comp.os.ms-windows.misc',\n",
       " 'comp.sys.ibm.pc.hardware',\n",
       " 'comp.sys.mac.hardware',\n",
       " 'comp.windows.x',\n",
       " 'misc.forsale',\n",
       " 'rec.autos',\n",
       " 'rec.motorcycles',\n",
       " 'rec.sport.baseball',\n",
       " 'rec.sport.hockey',\n",
       " 'sci.crypt',\n",
       " 'sci.electronics',\n",
       " 'sci.med',\n",
       " 'sci.space',\n",
       " 'soc.religion.christian',\n",
       " 'talk.politics.guns',\n",
       " 'talk.politics.mideast',\n",
       " 'talk.politics.misc',\n",
       " 'talk.religion.misc']"
      ]
     },
     "execution_count": 3,
     "metadata": {},
     "output_type": "execute_result"
    }
   ],
   "source": [
    "twenty_train.target_names #prints all the categories"
   ]
  },
  {
   "cell_type": "markdown",
   "metadata": {},
   "source": [
    "Inspeccionar las primeras lineas del primer documento"
   ]
  },
  {
   "cell_type": "code",
   "execution_count": 4,
   "metadata": {},
   "outputs": [
    {
     "name": "stdout",
     "output_type": "stream",
     "text": [
      "From: lerxst@wam.umd.edu (where's my thing)\n",
      "Subject: WHAT car is this!?\n",
      "Nntp-Posting-Host: rac3.wam.umd.edu\n",
      "Organization: University of Maryland, College Park\n",
      "Lines: 15\n",
      "\n",
      " I was wondering if anyone out there could enlighten me on this car I saw\n",
      "the other day. It was a 2-door sports car, looked to be from the late 60s/\n",
      "early 70s. It was called a Bricklin. The doors were really small. In addition,\n",
      "the front bumper was separate from the rest of the body. This is \n"
     ]
    }
   ],
   "source": [
    "print(\"\\n\".join(twenty_train.data[0].split(\"\\n\")[:10])) #prints first 10 lines of the first data file\n"
   ]
  },
  {
   "cell_type": "markdown",
   "metadata": {},
   "source": [
    "# Extracción de características\n",
    "Los documentos deben primero pre procesarse para separar el texto en tokens y convertirlos al espacio de vectores. Básicamente se separa cada archivo de texto en palabras (separando por espacios) y se cuenta la cantidad de veces que ocurre cada palabra en el documento. Finalmente se le asigna a cada palabra un identificador entero.\n",
    "La clase CountVectorizer es la encargada de crear los vectores de características.\n",
    "El método fit_transform aprende el vocabulario y retorna una matriz Document-Term [#documentos, #features]"
   ]
  },
  {
   "cell_type": "code",
   "execution_count": 10,
   "metadata": {},
   "outputs": [
    {
     "name": "stdout",
     "output_type": "stream",
     "text": [
      "  (0, 86580)\t1\n",
      "  (0, 128420)\t1\n",
      "  (0, 35983)\t1\n",
      "  (0, 35187)\t1\n",
      "  (0, 66098)\t1\n",
      "  (0, 114428)\t1\n",
      "  (0, 78955)\t1\n",
      "  (0, 94362)\t1\n",
      "  (0, 76722)\t1\n",
      "  (0, 57308)\t1\n",
      "  (0, 62221)\t1\n",
      "  (0, 128402)\t2\n",
      "  (0, 67156)\t1\n",
      "  (0, 123989)\t1\n",
      "  (0, 90252)\t1\n",
      "  (0, 63363)\t1\n",
      "  (0, 78784)\t1\n",
      "  (0, 96144)\t1\n",
      "  (0, 128026)\t1\n",
      "  (0, 109271)\t1\n",
      "  (0, 51730)\t1\n",
      "  (0, 86001)\t1\n",
      "  (0, 83256)\t1\n",
      "  (0, 113986)\t1\n",
      "  (0, 37565)\t1\n",
      "  :\t:\n",
      "  (0, 4605)\t1\n",
      "  (0, 76032)\t1\n",
      "  (0, 92081)\t1\n",
      "  (0, 40998)\t1\n",
      "  (0, 79666)\t1\n",
      "  (0, 89362)\t3\n",
      "  (0, 118983)\t1\n",
      "  (0, 90379)\t1\n",
      "  (0, 98949)\t1\n",
      "  (0, 64095)\t1\n",
      "  (0, 95162)\t1\n",
      "  (0, 87620)\t1\n",
      "  (0, 114731)\t5\n",
      "  (0, 68532)\t3\n",
      "  (0, 37780)\t5\n",
      "  (0, 123984)\t1\n",
      "  (0, 111322)\t1\n",
      "  (0, 114688)\t1\n",
      "  (0, 85354)\t1\n",
      "  (0, 124031)\t2\n",
      "  (0, 50527)\t2\n",
      "  (0, 118280)\t2\n",
      "  (0, 123162)\t2\n",
      "  (0, 75358)\t2\n",
      "  (0, 56979)\t3\n"
     ]
    }
   ],
   "source": [
    "# Extracting features from text files\n",
    "from sklearn.feature_extraction.text import CountVectorizer\n",
    "count_vect = CountVectorizer()\n",
    "X_train_counts = count_vect.fit_transform(twenty_train.data)\n",
    "\n",
    "X_train_counts.shape\n",
    "print(X_train_counts[0])"
   ]
  },
  {
   "cell_type": "code",
   "execution_count": 6,
   "metadata": {
    "scrolled": true
   },
   "outputs": [
    {
     "data": {
      "text/plain": [
       "37780"
      ]
     },
     "execution_count": 6,
     "metadata": {},
     "output_type": "execute_result"
    }
   ],
   "source": [
    "\n",
    "count_vect.vocabulary_.get('car')"
   ]
  },
  {
   "cell_type": "code",
   "execution_count": 7,
   "metadata": {},
   "outputs": [
    {
     "data": {
      "text/plain": [
       "(11314, 130107)"
      ]
     },
     "execution_count": 7,
     "metadata": {},
     "output_type": "execute_result"
    }
   ],
   "source": [
    "# TF-IDF\n",
    "from sklearn.feature_extraction.text import TfidfTransformer\n",
    "tfidf_transformer = TfidfTransformer()\n",
    "X_train_tfidf = tfidf_transformer.fit_transform(X_train_counts)\n",
    "X_train_tfidf.shape"
   ]
  },
  {
   "cell_type": "markdown",
   "metadata": {},
   "source": [
    "# Clasificación"
   ]
  },
  {
   "cell_type": "markdown",
   "metadata": {},
   "source": [
    "REGRESIÓN LINEAL"
   ]
  },
  {
   "cell_type": "code",
   "execution_count": 11,
   "metadata": {},
   "outputs": [
    {
     "data": {
      "text/plain": [
       "LinearRegression(copy_X=True, fit_intercept=True, n_jobs=1, normalize=True)"
      ]
     },
     "execution_count": 11,
     "metadata": {},
     "output_type": "execute_result"
    }
   ],
   "source": [
    "from sklearn.linear_model import LinearRegression\n",
    "lr = LinearRegression(normalize=True)\n",
    "lr"
   ]
  },
  {
   "cell_type": "markdown",
   "metadata": {},
   "source": [
    "SUPPORT VECTOR MACHINES (SVM)"
   ]
  },
  {
   "cell_type": "code",
   "execution_count": 12,
   "metadata": {},
   "outputs": [
    {
     "data": {
      "text/plain": [
       "SVC(C=1.0, cache_size=200, class_weight=None, coef0=0.0,\n",
       "  decision_function_shape='ovr', degree=3, gamma='auto', kernel='linear',\n",
       "  max_iter=-1, probability=False, random_state=None, shrinking=True,\n",
       "  tol=0.001, verbose=False)"
      ]
     },
     "execution_count": 12,
     "metadata": {},
     "output_type": "execute_result"
    }
   ],
   "source": [
    "from sklearn.svm import SVC\n",
    "svc = SVC(kernel='linear')\n",
    "svc"
   ]
  },
  {
   "cell_type": "markdown",
   "metadata": {},
   "source": [
    "NAIVE BAYES"
   ]
  },
  {
   "cell_type": "code",
   "execution_count": 13,
   "metadata": {},
   "outputs": [
    {
     "data": {
      "text/plain": [
       "GaussianNB(priors=None)"
      ]
     },
     "execution_count": 13,
     "metadata": {},
     "output_type": "execute_result"
    }
   ],
   "source": [
    "from sklearn.naive_bayes import GaussianNB\n",
    "gnb = GaussianNB()\n",
    "gnb"
   ]
  },
  {
   "cell_type": "markdown",
   "metadata": {},
   "source": [
    "KNN"
   ]
  },
  {
   "cell_type": "code",
   "execution_count": 14,
   "metadata": {},
   "outputs": [
    {
     "data": {
      "text/plain": [
       "KNeighborsClassifier(algorithm='auto', leaf_size=30, metric='minkowski',\n",
       "           metric_params=None, n_jobs=1, n_neighbors=5, p=2,\n",
       "           weights='uniform')"
      ]
     },
     "execution_count": 14,
     "metadata": {},
     "output_type": "execute_result"
    }
   ],
   "source": [
    "from sklearn import neighbors\n",
    "knn = neighbors.KNeighborsClassifier(n_neighbors=5)\n",
    "knn"
   ]
  },
  {
   "cell_type": "markdown",
   "metadata": {},
   "source": [
    "Entrenamos un clasificador Naive Bayes (NB) a partir de los datos de entrenamiento\n",
    "\n",
    "Para entrenar, todos los clasificadores poseen el método **fit** que recibe los ejemplos de entrenamiento como primer parámetro y las clases asociadas a cada uno en el segundo parámetro"
   ]
  },
  {
   "cell_type": "code",
   "execution_count": 15,
   "metadata": {},
   "outputs": [],
   "source": [
    "from sklearn.naive_bayes import MultinomialNB\n",
    "clf = MultinomialNB().fit(X_train_tfidf, twenty_train.target)"
   ]
  },
  {
   "cell_type": "markdown",
   "metadata": {},
   "source": [
    "Construimos un pipeline con todo el proceso. Los nombres 'vect', 'tfidf' y 'clf' son arbitrarios."
   ]
  },
  {
   "cell_type": "code",
   "execution_count": 16,
   "metadata": {},
   "outputs": [],
   "source": [
    "from sklearn.pipeline import Pipeline\n",
    "\n",
    "text_clf = Pipeline([('vect', CountVectorizer()), ('tfidf', TfidfTransformer()), ('clf', MultinomialNB(alpha=1.0))])\n",
    "\n",
    "text_clf = text_clf.fit(twenty_train.data, twenty_train.target)"
   ]
  },
  {
   "cell_type": "markdown",
   "metadata": {},
   "source": [
    "Para utilizar el clasificador para identificar la clase de un conjunto de documentos nuevos se utiliza el método **predict**"
   ]
  },
  {
   "cell_type": "code",
   "execution_count": 19,
   "metadata": {},
   "outputs": [
    {
     "name": "stdout",
     "output_type": "stream",
     "text": [
      "[ 7 15  2]\n",
      "7  =  rec.autos\n",
      "15  =  soc.religion.christian\n",
      "2  =  comp.os.ms-windows.misc\n"
     ]
    }
   ],
   "source": [
    "predicted = text_clf.predict(['This is a beautiful car','I love god','I love mac and hate windows'])\n",
    "print (predicted)\n",
    "for i in predicted:\n",
    "    print (i,\" = \",twenty_train.target_names[i])"
   ]
  },
  {
   "cell_type": "markdown",
   "metadata": {},
   "source": [
    "Evaluamos la eficiencia del clasificador con un conjunto de datos de prueba"
   ]
  },
  {
   "cell_type": "code",
   "execution_count": 20,
   "metadata": {},
   "outputs": [
    {
     "name": "stdout",
     "output_type": "stream",
     "text": [
      "Clases identificadas :  [ 7 11  0 ...  9  3 15]\n",
      "Clases reales del doc:  [ 7  5  0 ...  9  6 15]\n"
     ]
    },
    {
     "data": {
      "text/plain": [
       "0.7738980350504514"
      ]
     },
     "execution_count": 20,
     "metadata": {},
     "output_type": "execute_result"
    }
   ],
   "source": [
    "\n",
    "twenty_test = fetch_20newsgroups(subset='test', shuffle=True)\n",
    "predicted = text_clf.predict(twenty_test.data)\n",
    "print (\"Clases identificadas : \", predicted)\n",
    "print (\"Clases reales del doc: \", twenty_test.target)\n",
    "\n",
    "import numpy as np\n",
    "np.mean(predicted == twenty_test.target)"
   ]
  },
  {
   "cell_type": "code",
   "execution_count": 21,
   "metadata": {},
   "outputs": [
    {
     "data": {
      "text/plain": [
       "array([ True, False,  True, ...,  True, False,  True])"
      ]
     },
     "execution_count": 21,
     "metadata": {},
     "output_type": "execute_result"
    }
   ],
   "source": [
    "predicted == twenty_test.target"
   ]
  },
  {
   "cell_type": "markdown",
   "metadata": {},
   "source": [
    "## Probamos con SVM"
   ]
  },
  {
   "cell_type": "code",
   "execution_count": 22,
   "metadata": {},
   "outputs": [
    {
     "data": {
      "text/plain": [
       "0.8238183749336165"
      ]
     },
     "execution_count": 22,
     "metadata": {},
     "output_type": "execute_result"
    }
   ],
   "source": [
    "from sklearn.linear_model import SGDClassifier\n",
    "text_clf_svm = Pipeline([('vect', CountVectorizer()), ('tfidf', TfidfTransformer()),\n",
    "                         ('clf-svm', SGDClassifier(loss='hinge', penalty='l2',alpha=1e-3, max_iter=5, random_state=42))])\n",
    "\n",
    "text_clf_svm = text_clf_svm.fit(twenty_train.data, twenty_train.target)\n",
    "predicted_svm = text_clf_svm.predict(twenty_test.data)\n",
    "np.mean(predicted_svm == twenty_test.target)"
   ]
  },
  {
   "cell_type": "markdown",
   "metadata": {},
   "source": [
    "## Estimación de parámetros\n",
    "\n",
    "GridSearch nos permite crear una lista de parámetros para los cuales queremos evaluar la eficacia de un clasificador.\n",
    "\n",
    "Todos los parámetros deben comenzar con el nombre del clasificador (recordar que le dimos un nombre arbitrario\n",
    "\n",
    "Por ejemplo vect__ngram_range indica que vamos a usar unigramas y bigramas y que elija el que arroja mejores resultados"
   ]
  },
  {
   "cell_type": "code",
   "execution_count": 24,
   "metadata": {},
   "outputs": [],
   "source": [
    "from sklearn.model_selection import GridSearchCV\n",
    "parameters = {'vect__ngram_range': [(1, 1), (1, 2)], 'tfidf__use_idf': (True, False), 'clf__alpha': (1e-2, 1e-3)}"
   ]
  },
  {
   "cell_type": "markdown",
   "metadata": {},
   "source": [
    "Ahora creamos una instancia de grid search pasando el clasificador, los parámetros y n_jobs=-1 que indica que use todos los cores disponibles de la máquina"
   ]
  },
  {
   "cell_type": "code",
   "execution_count": 25,
   "metadata": {},
   "outputs": [],
   "source": [
    "# Next, we create an instance of the grid search by passing the classifier, parameters \n",
    "# and n_jobs=-1 which tells to use multiple cores from user machine.\n",
    "\n",
    "gs_clf = GridSearchCV(text_clf, parameters, n_jobs=-1)\n",
    "gs_clf = gs_clf.fit(twenty_train.data, twenty_train.target)"
   ]
  },
  {
   "cell_type": "markdown",
   "metadata": {},
   "source": [
    "Para ver los mejores scores y los parámetros corremos el siguiente código:"
   ]
  },
  {
   "cell_type": "code",
   "execution_count": 26,
   "metadata": {},
   "outputs": [
    {
     "data": {
      "text/plain": [
       "0.9067526957751458"
      ]
     },
     "execution_count": 26,
     "metadata": {},
     "output_type": "execute_result"
    }
   ],
   "source": [
    "gs_clf.best_score_"
   ]
  },
  {
   "cell_type": "code",
   "execution_count": 27,
   "metadata": {},
   "outputs": [
    {
     "data": {
      "text/plain": [
       "{'clf__alpha': 0.01, 'tfidf__use_idf': True, 'vect__ngram_range': (1, 2)}"
      ]
     },
     "execution_count": 27,
     "metadata": {},
     "output_type": "execute_result"
    }
   ],
   "source": [
    "gs_clf.best_params_"
   ]
  },
  {
   "cell_type": "markdown",
   "metadata": {},
   "source": [
    "Podemos ver que el accuracy se incrementó a 90.6% para el clasificador bayesiano y los parámetros ‘alpha’: 0.01 del clasificador y  ‘use_idf’: True, ‘ngram_range’: (1, 2) del pre-procesamiento"
   ]
  },
  {
   "cell_type": "markdown",
   "metadata": {},
   "source": [
    "Probamos lo mismo para SVM"
   ]
  },
  {
   "cell_type": "code",
   "execution_count": null,
   "metadata": {},
   "outputs": [],
   "source": [
    "from sklearn.model_selection import GridSearchCV\n",
    "parameters_svm = {'vect__ngram_range': [(1, 1), (1, 2)], 'tfidf__use_idf': (True, False),'clf-svm__alpha': (1e-2, 1e-3)}\n",
    "\n",
    "gs_clf_svm = GridSearchCV(text_clf_svm, parameters_svm, n_jobs=-1)\n",
    "gs_clf_svm = gs_clf_svm.fit(twenty_train.data, twenty_train.target)\n",
    "\n",
    "\n",
    "print(gs_clf_svm.best_score_)\n",
    "print(gs_clf_svm.best_params_)"
   ]
  },
  {
   "cell_type": "markdown",
   "metadata": {},
   "source": [
    "## Eliminación de stopwords"
   ]
  },
  {
   "cell_type": "code",
   "execution_count": null,
   "metadata": {},
   "outputs": [],
   "source": [
    "from sklearn.pipeline import Pipeline\n",
    "text_clf = Pipeline([('vect', CountVectorizer(stop_words='english')), ('tfidf', TfidfTransformer()), \n",
    "                     ('clf', MultinomialNB())])"
   ]
  },
  {
   "cell_type": "markdown",
   "metadata": {},
   "source": [
    "## Stemming\n",
    "No está incluido en sklearn, pero se puede realizar customizando el Vectorizer"
   ]
  },
  {
   "cell_type": "code",
   "execution_count": null,
   "metadata": {},
   "outputs": [],
   "source": [
    "import nltk\n",
    "nltk.download()"
   ]
  },
  {
   "cell_type": "code",
   "execution_count": 28,
   "metadata": {},
   "outputs": [
    {
     "data": {
      "text/plain": [
       "0.8114710568242167"
      ]
     },
     "execution_count": 28,
     "metadata": {},
     "output_type": "execute_result"
    }
   ],
   "source": [
    "from sklearn.feature_extraction.text import CountVectorizer\n",
    "from sklearn.pipeline import Pipeline\n",
    "from sklearn.feature_extraction.text import TfidfTransformer\n",
    "from sklearn.naive_bayes import MultinomialNB\n",
    "\n",
    "from sklearn.datasets import fetch_20newsgroups\n",
    "twenty_train = fetch_20newsgroups(subset='train', shuffle=True)\n",
    "twenty_test = fetch_20newsgroups(subset='test', shuffle=True)\n",
    "\n",
    "from nltk.stem.snowball import SnowballStemmer\n",
    "stemmer = SnowballStemmer(\"english\", ignore_stopwords=True)\n",
    "\n",
    "class StemmedCountVectorizer(CountVectorizer):\n",
    "    def build_analyzer(self):\n",
    "        analyzer = super(StemmedCountVectorizer, self).build_analyzer()\n",
    "        return lambda doc: ([stemmer.stem(w) for w in analyzer(doc)])\n",
    "    \n",
    "stemmed_count_vect = StemmedCountVectorizer(stop_words='english')\n",
    "\n",
    "text_mnb_stemmed = Pipeline([('vect', stemmed_count_vect), ('tfidf', TfidfTransformer()), \n",
    "                             ('mnb', MultinomialNB())])\n",
    "\n",
    "text_mnb_stemmed = text_mnb_stemmed.fit(twenty_train.data, twenty_train.target)\n",
    "\n",
    "predicted_mnb_stemmed = text_mnb_stemmed.predict(twenty_test.data)\n",
    "\n",
    "import numpy as np\n",
    "np.mean(predicted_mnb_stemmed == twenty_test.target)"
   ]
  },
  {
   "cell_type": "markdown",
   "metadata": {},
   "source": [
    "# NLTK\n",
    " - Es una biblioteca especializada en procesamiento de lenguaje natural\n",
    " - Recursos léxicos\n",
    " - Tokenización de palabras y oraciones\n",
    " - PoS Tagging\n",
    " - Identificación de entidades nombradas (NER)\n",
    " - Técnicas de minería de texto (por ejemplo clasificación)"
   ]
  },
  {
   "cell_type": "markdown",
   "metadata": {},
   "source": [
    "## Separación de oraciones"
   ]
  },
  {
   "cell_type": "code",
   "execution_count": 29,
   "metadata": {},
   "outputs": [
    {
     "data": {
      "text/plain": [
       "['The quick brown fox jumed!', 'where?', 'Over the lazy dog.']"
      ]
     },
     "execution_count": 29,
     "metadata": {},
     "output_type": "execute_result"
    }
   ],
   "source": [
    "from nltk import word_tokenize, sent_tokenize\n",
    "text = 'The quick brown fox jumed! where? Over the lazy dog.'\n",
    "sentences = sent_tokenize(text)\n",
    "sentences"
   ]
  },
  {
   "cell_type": "markdown",
   "metadata": {},
   "source": [
    "## Separación de palabras"
   ]
  },
  {
   "cell_type": "code",
   "execution_count": 30,
   "metadata": {},
   "outputs": [
    {
     "name": "stdout",
     "output_type": "stream",
     "text": [
      "['The', 'quick', 'brown', 'fox', 'jumed', '!']\n",
      "['where', '?']\n",
      "['Over', 'the', 'lazy', 'dog', '.']\n"
     ]
    }
   ],
   "source": [
    "for sentence in sentences:\n",
    "    words = word_tokenize(sentence)\n",
    "    print(words)"
   ]
  },
  {
   "cell_type": "markdown",
   "metadata": {},
   "source": [
    "Funciona para texto de redes sociales?"
   ]
  },
  {
   "cell_type": "code",
   "execution_count": 31,
   "metadata": {},
   "outputs": [
    {
     "name": "stdout",
     "output_type": "stream",
     "text": [
      "['@', 'mg_armentano', ':', 'an', 'example', '!', ':', 'D', 'http', ':', '//example.com', '#', 'NLP']\n"
     ]
    }
   ],
   "source": [
    "tweet = '@mg_armentano: an example! :D http://example.com #NLP'\n",
    "print(word_tokenize(tweet))"
   ]
  },
  {
   "cell_type": "code",
   "execution_count": 32,
   "metadata": {},
   "outputs": [
    {
     "name": "stdout",
     "output_type": "stream",
     "text": [
      "['@mg_armentano', ':', 'an', 'example', '!', ':D', 'http://example.com', '#NLP']\n"
     ]
    }
   ],
   "source": [
    "from nltk.tokenize import TweetTokenizer\n",
    "tokenizer = TweetTokenizer()\n",
    "tweet = '@mg_armentano: an example! :D http://example.com #NLP'\n",
    "print(tokenizer.tokenize(tweet))"
   ]
  },
  {
   "cell_type": "markdown",
   "metadata": {},
   "source": [
    "## Textos de ejemplo"
   ]
  },
  {
   "cell_type": "code",
   "execution_count": 33,
   "metadata": {},
   "outputs": [
    {
     "name": "stdout",
     "output_type": "stream",
     "text": [
      "*** Introductory Examples for the NLTK Book ***\n",
      "Loading text1, ..., text9 and sent1, ..., sent9\n",
      "Type the name of the text or sentence to view it.\n",
      "Type: 'texts()' or 'sents()' to list the materials.\n",
      "text1: Moby Dick by Herman Melville 1851\n",
      "text2: Sense and Sensibility by Jane Austen 1811\n",
      "text3: The Book of Genesis\n",
      "text4: Inaugural Address Corpus\n",
      "text5: Chat Corpus\n",
      "text6: Monty Python and the Holy Grail\n",
      "text7: Wall Street Journal\n",
      "text8: Personals Corpus\n",
      "text9: The Man Who Was Thursday by G . K . Chesterton 1908\n"
     ]
    },
    {
     "data": {
      "text/plain": [
       "<Text: Moby Dick by Herman Melville 1851>"
      ]
     },
     "execution_count": 33,
     "metadata": {},
     "output_type": "execute_result"
    }
   ],
   "source": [
    "from nltk.book import *\n",
    "text1"
   ]
  },
  {
   "cell_type": "markdown",
   "metadata": {},
   "source": [
    "Conceptualmente, un objeto **nltk.text** no es más que una lista ordenada de tokens, siendo esto la unidad mínima de un texto, simplemente palabras o signos de puntuación. "
   ]
  },
  {
   "cell_type": "code",
   "execution_count": 34,
   "metadata": {},
   "outputs": [
    {
     "data": {
      "text/plain": [
       "['[',\n",
       " 'Moby',\n",
       " 'Dick',\n",
       " 'by',\n",
       " 'Herman',\n",
       " 'Melville',\n",
       " '1851',\n",
       " ']',\n",
       " 'ETYMOLOGY',\n",
       " '.',\n",
       " '(',\n",
       " 'Supplied',\n",
       " 'by',\n",
       " 'a',\n",
       " 'Late',\n",
       " 'Consumptive',\n",
       " 'Usher',\n",
       " 'to',\n",
       " 'a',\n",
       " 'Grammar']"
      ]
     },
     "execution_count": 34,
     "metadata": {},
     "output_type": "execute_result"
    }
   ],
   "source": [
    "text1[0:20]"
   ]
  },
  {
   "cell_type": "markdown",
   "metadata": {},
   "source": [
    "## Carga de textos desde url"
   ]
  },
  {
   "cell_type": "code",
   "execution_count": 35,
   "metadata": {},
   "outputs": [
    {
     "name": "stdout",
     "output_type": "stream",
     "text": [
      "<class 'str'>\n",
      "448614\n",
      "﻿Project Gutenberg's A Journey to the Interior of the Earth, by Jules Verne\n"
     ]
    }
   ],
   "source": [
    "from urllib import request\n",
    "\n",
    "url = \"http://www.gutenberg.org/cache/epub/3748/pg3748.txt\"\n",
    "response = request.urlopen(url)\n",
    "raw = response.read().decode('utf8')\n",
    "\n",
    "print(type(raw))\n",
    "print(len(raw))\n",
    "print(raw[:75])"
   ]
  },
  {
   "cell_type": "code",
   "execution_count": 36,
   "metadata": {},
   "outputs": [
    {
     "name": "stdout",
     "output_type": "stream",
     "text": [
      "<class 'list'>\n",
      "91752\n",
      "['\\ufeffProject', 'Gutenberg', \"'s\", 'A', 'Journey', 'to', 'the', 'Interior', 'of', 'the']\n"
     ]
    }
   ],
   "source": [
    "from nltk import word_tokenize\n",
    "\n",
    "tokens = word_tokenize(raw)\n",
    "print(type(tokens))\n",
    "print(len(tokens))\n",
    "print(tokens[:10])"
   ]
  },
  {
   "cell_type": "code",
   "execution_count": 37,
   "metadata": {},
   "outputs": [
    {
     "name": "stdout",
     "output_type": "stream",
     "text": [
      "<class 'nltk.text.Text'>\n",
      "91752\n",
      "['\\ufeffProject', 'Gutenberg', \"'s\", 'A', 'Journey', 'to', 'the', 'Interior', 'of', 'the']\n"
     ]
    }
   ],
   "source": [
    "import nltk\n",
    "text = nltk.Text(tokens)\n",
    "print(type(text))\n",
    "print(len(text))\n",
    "print(text[:10])"
   ]
  },
  {
   "cell_type": "markdown",
   "metadata": {},
   "source": [
    "## Búsqueda con contexto"
   ]
  },
  {
   "cell_type": "code",
   "execution_count": 38,
   "metadata": {},
   "outputs": [
    {
     "name": "stdout",
     "output_type": "stream",
     "text": [
      "Displaying 25 of 120 matches:\n",
      "cry , `` Thalatta ! thalatta ! '' the sea ! the sea ! The deeply indented shore\n",
      "halatta ! thalatta ! '' the sea ! the sea ! The deeply indented shore was lined\n",
      "ood , changeable , mother , bow , and sea ? The first and the last might have s\n",
      " Iceland there should be mention of a sea of ice ; but it was quite another thi\n",
      "`` Yes ; a mountain rising out of the sea . '' `` Right . That is Snæfell . '' \n",
      "urs we stopped at Kiel , close to the sea . The luggage being labelled for Cope\n",
      " there was a sharp breeze and a rough sea , a few lights appeared on shore thro\n",
      "t . At last he discerned a stretch of sea . `` The Sound ! '' he cried . At our\n",
      "arts , whose huge arms dilated in the sea breeze like the sails of a ship . Wha\n",
      " the green country , on the other the sea sparkled , bathed in sunlight . The S\n",
      "Cape Lindness , and entered the North Sea . In two days more we sighted the coa\n",
      " unusual . I bore the troubles of the sea pretty well ; my uncle , to his own i\n",
      "s perforated rock , through which the sea dashed furiously . The Westman islets\n",
      " western point of Iceland . The rough sea prevented my uncle from coming on dec\n",
      "e side , and falls gently towards the sea . On the other extends the vast bay o\n",
      "o the peninsula of Snæfell ? '' `` By sea , crossing the bay . That 's the most\n",
      "oth terraced rocks which slope to the sea , the Icelandic hunter might exercise\n",
      "f barren rocks made a dip towards the sea , and encroached upon the scanty past\n",
      "left between a chain of hills and the sea , they carried us to our next stage ,\n",
      " it on horseback across an arm of the sea . If they are as intelligent as they \n",
      "he crossing of the fiord , when , the sea having reached its greatest height , \n",
      "arried either to the bottom or out to sea . That favourable moment arrived only\n",
      "d pull off the rocks and a few meagre sea weeds , and the next day they would n\n",
      ". we reached Büdir , a village on the sea shore ; and the guide there claiming \n",
      " of which formed a semi-arch over the sea . At intervals , under this natural s\n"
     ]
    }
   ],
   "source": [
    "text.concordance(\"sea\")"
   ]
  },
  {
   "cell_type": "markdown",
   "metadata": {},
   "source": [
    "## Obtener colocaciones\n",
    "Las colocaciones son unidades fraseológicas de dos o más palabras que se usan muy habitualmente combinadas, más de lo que probabilísticamente se daría. Por ejemplo, en español \"alto riesgo\", \"sin duda\", \"no hay problema\""
   ]
  },
  {
   "cell_type": "code",
   "execution_count": 39,
   "metadata": {},
   "outputs": [
    {
     "name": "stdout",
     "output_type": "stream",
     "text": [
      "Project Gutenberg-tm; Project Gutenberg; Professor Liedenbrock;\n",
      "Literary Archive; Gutenberg-tm electronic; Archive Foundation;\n",
      "electronic works; Jules Verne; United States; Gutenberg Literary; Arne\n",
      "Saknussemm; hundred feet; Humphry Davy; public domain; next day; Port\n",
      "Gräuben; electronic work; sixteenth century; Gutenberg-tm License; set\n",
      "forth\n"
     ]
    }
   ],
   "source": [
    "text.collocations()"
   ]
  },
  {
   "cell_type": "markdown",
   "metadata": {},
   "source": [
    "## Similitud distribucional\n",
    "Permite buscar palabras que aparecen en los mismos contextos de una palabra dada"
   ]
  },
  {
   "cell_type": "code",
   "execution_count": 40,
   "metadata": {},
   "outputs": [
    {
     "name": "stdout",
     "output_type": "stream",
     "text": [
      "earth professor raft world water way air rocks globe work time crater\n",
      "waves rock compass journey shore ground gallery soil\n"
     ]
    }
   ],
   "source": [
    "text.similar(\"sea\")"
   ]
  },
  {
   "cell_type": "markdown",
   "metadata": {},
   "source": [
    "## Palabras más comunes"
   ]
  },
  {
   "cell_type": "code",
   "execution_count": 41,
   "metadata": {},
   "outputs": [
    {
     "name": "stdout",
     "output_type": "stream",
     "text": [
      "[('Professor', 164), ('should', 97), ('little', 94), ('seemed', 90), ('before', 86), ('through', 84), ('Project', 82), ('without', 82), ('myself', 81), ('hundred', 77), ('moment', 72), ('thought', 70), ('nothing', 69), ('Liedenbrock', 66), ('replied', 66), ('surface', 64), ('leagues', 60), ('Gutenberg-tm', 55), ('against', 54), ('Iceland', 53), ('therefore', 53), ('granite', 51), ('CHAPTER', 45), ('Snæfell', 44), ('course', 43), ('Saknussemm', 43), ('between', 42), ('gallery', 42), ('looked', 40), ('passed', 39), ('almost', 37), ('enough', 37), ('Gräuben', 37), ('crater', 37), ('thousand', 36), ('centre', 36), ('himself', 35), ('reason', 35), ('rather', 35), ('return', 34), ('called', 34), ('reached', 34), ('matter', 32), ('formed', 32), ('silence', 32), ('period', 31), ('question', 31), ('carried', 31), ('together', 30), ('distance', 30), ('Icelandic', 30), ('document', 30), ('within', 30), ('passage', 30), ('certain', 29), ('longer', 29), ('hunter', 29), ('journey', 28), ('became', 28), ('another', 28), ('mountain', 28), ('compass', 28), ('Gutenberg', 27), ('island', 27), ('morning', 27), ('believe', 27), ('electronic', 27), ('learned', 26), ('nature', 26), ('brought', 26), ('letters', 26), ('followed', 26), ('answer', 25), ('volcano', 25), ('action', 25), ('waters', 25), ('stopped', 25), ('following', 24), ('science', 24), ('scarcely', 24), ('Martha', 24), ('appeared', 24), ('minutes', 24), ('returned', 24), ('immense', 24), ('Foundation', 24), ('arrived', 23), ('answered', 23), ('electric', 23), ('scientific', 22), ('appearance', 22), ('wanted', 22), ('become', 22), ('coming', 22), ('degrees', 22), ('around', 22), ('darkness', 22), ('obliged', 22), ('temperature', 22), ('liquid', 22), ('distant', 22), ('ground', 22), ('farther', 22), ('Hamburg', 21), ('others', 21), ('instead', 21), ('beginning', 21), ('repeated', 21), ('impossible', 21), ('amongst', 21), ('pressure', 21), ('enormous', 21), ('things', 20), ('having', 20), ('Rejkiavik', 20), ('ourselves', 20), ('better', 20), ('stream', 20), ('evening', 20), ('Fridrikssen', 20), ('descent', 20), ('height', 20), ('living', 19), ('strange', 19), ('difficulty', 19), ('already', 19), ('strength', 19), ('extinct', 19), ('eruption', 19), ('central', 19), ('Danish', 19), ('country', 19)]\n"
     ]
    }
   ],
   "source": [
    "from nltk import FreqDist\n",
    "fdist1 = FreqDist(text)\n",
    "print([i for i in fdist1.most_common(500) if len(i[0]) > 5])"
   ]
  },
  {
   "cell_type": "markdown",
   "metadata": {},
   "source": [
    "Otras funciones interesantes de FreqDist\n",
    "\n",
    " - fdist.values(): Devuelve la cantidad de veces que aparece cada palabra\n",
    " - fdist.N(): Total de palabras en el texto\n",
    " - fdist[word]: Cantidad de ocurrencias de word\n",
    " - fdist.freq(word): Devuelve la frecuencia de aparación de word\n",
    " - fdist.max(): Palabra con máxima frecuencia\n",
    " - fdist.plot(): Representación gráfica"
   ]
  },
  {
   "cell_type": "code",
   "execution_count": 45,
   "metadata": {},
   "outputs": [
    {
     "data": {
      "image/png": "[encoded data removed]",
      "text/plain": [
       "<matplotlib.figure.Figure at 0x1c1a2fcb278>"
      ]
     },
     "metadata": {},
     "output_type": "display_data"
    }
   ],
   "source": [
    "%matplotlib inline \n",
    "fdist1.plot(30)"
   ]
  },
  {
   "cell_type": "markdown",
   "metadata": {},
   "source": [
    "## Dispersión de una palabra\n",
    "Podemos también ver gráficamente como evoluciona la aparición de una palabra a lo largo del documento"
   ]
  },
  {
   "cell_type": "code",
   "execution_count": 44,
   "metadata": {},
   "outputs": [
    {
     "data": {
      "image/png": "[encoded data removed]",
      "text/plain": [
       "<matplotlib.figure.Figure at 0x1c1f9066550>"
      ]
     },
     "metadata": {},
     "output_type": "display_data"
    }
   ],
   "source": [
    "text.dispersion_plot([\"Sea\", \"Earth\", \"Professor\",\"little\"])"
   ]
  },
  {
   "cell_type": "markdown",
   "metadata": {},
   "source": [
    "## Generación de bigramas"
   ]
  },
  {
   "cell_type": "code",
   "execution_count": 46,
   "metadata": {},
   "outputs": [
    {
     "data": {
      "text/plain": [
       "[('\\ufeffProject', 'Gutenberg'),\n",
       " ('Gutenberg', \"'s\"),\n",
       " (\"'s\", 'A'),\n",
       " ('A', 'Journey'),\n",
       " ('Journey', 'to'),\n",
       " ('to', 'the'),\n",
       " ('the', 'Interior'),\n",
       " ('Interior', 'of'),\n",
       " ('of', 'the'),\n",
       " ('the', 'Earth'),\n",
       " ('Earth', ','),\n",
       " (',', 'by'),\n",
       " ('by', 'Jules'),\n",
       " ('Jules', 'Verne'),\n",
       " ('Verne', 'This')]"
      ]
     },
     "execution_count": 46,
     "metadata": {},
     "output_type": "execute_result"
    }
   ],
   "source": [
    "list(bigrams(text))[0:15]"
   ]
  },
  {
   "cell_type": "markdown",
   "metadata": {},
   "source": [
    "## stemmers"
   ]
  },
  {
   "cell_type": "code",
   "execution_count": 47,
   "metadata": {},
   "outputs": [
    {
     "data": {
      "text/plain": [
       "['\\ufeffproject',\n",
       " 'gutenberg',\n",
       " \"'s\",\n",
       " 'A',\n",
       " 'journey',\n",
       " 'to',\n",
       " 'the',\n",
       " 'interior',\n",
       " 'of',\n",
       " 'the',\n",
       " 'earth',\n",
       " ',',\n",
       " 'by',\n",
       " 'jule',\n",
       " 'vern',\n",
       " 'thi',\n",
       " 'ebook',\n",
       " 'is',\n",
       " 'for',\n",
       " 'the']"
      ]
     },
     "execution_count": 47,
     "metadata": {},
     "output_type": "execute_result"
    }
   ],
   "source": [
    "porter = nltk.PorterStemmer()\n",
    "list(porter.stem(t) for t in tokens)[0:20]"
   ]
  },
  {
   "cell_type": "code",
   "execution_count": 48,
   "metadata": {},
   "outputs": [
    {
     "data": {
      "text/plain": [
       "['\\ufeffproject',\n",
       " 'gutenberg',\n",
       " \"'s\",\n",
       " 'a',\n",
       " 'journey',\n",
       " 'to',\n",
       " 'the',\n",
       " 'intery',\n",
       " 'of',\n",
       " 'the',\n",
       " 'ear',\n",
       " ',',\n",
       " 'by',\n",
       " 'jul',\n",
       " 'vern',\n",
       " 'thi',\n",
       " 'ebook',\n",
       " 'is',\n",
       " 'for',\n",
       " 'the']"
      ]
     },
     "execution_count": 48,
     "metadata": {},
     "output_type": "execute_result"
    }
   ],
   "source": [
    "lancaster = nltk.LancasterStemmer()\n",
    "list(lancaster.stem(t) for t in tokens)[0:20]"
   ]
  },
  {
   "cell_type": "markdown",
   "metadata": {},
   "source": [
    "## Lematización\n",
    "A diferencia del stemming, el lematizador solo elimina el final de la palabra si la palabra resultante se encuentra en el diccionario. Esto lo hace un proceso más lento que el stemming."
   ]
  },
  {
   "cell_type": "code",
   "execution_count": 49,
   "metadata": {},
   "outputs": [
    {
     "data": {
      "text/plain": [
       "['\\ufeffProject',\n",
       " 'Gutenberg',\n",
       " \"'s\",\n",
       " 'A',\n",
       " 'Journey',\n",
       " 'to',\n",
       " 'the',\n",
       " 'Interior',\n",
       " 'of',\n",
       " 'the',\n",
       " 'Earth',\n",
       " ',',\n",
       " 'by',\n",
       " 'Jules',\n",
       " 'Verne',\n",
       " 'This',\n",
       " 'eBook',\n",
       " 'is',\n",
       " 'for',\n",
       " 'the',\n",
       " 'use',\n",
       " 'of',\n",
       " 'anyone',\n",
       " 'anywhere',\n",
       " 'at',\n",
       " 'no',\n",
       " 'cost',\n",
       " 'and',\n",
       " 'with',\n",
       " 'almost',\n",
       " 'no',\n",
       " 'restriction',\n",
       " 'whatsoever',\n",
       " '.',\n",
       " 'You',\n",
       " 'may',\n",
       " 'copy',\n",
       " 'it',\n",
       " ',',\n",
       " 'give',\n",
       " 'it',\n",
       " 'away',\n",
       " 'or',\n",
       " 're-use',\n",
       " 'it',\n",
       " 'under',\n",
       " 'the',\n",
       " 'term',\n",
       " 'of',\n",
       " 'the',\n",
       " 'Project',\n",
       " 'Gutenberg',\n",
       " 'License',\n",
       " 'included',\n",
       " 'with',\n",
       " 'this',\n",
       " 'eBook',\n",
       " 'or',\n",
       " 'online',\n",
       " 'at',\n",
       " 'www.gutenberg.org',\n",
       " 'Title',\n",
       " ':',\n",
       " 'A',\n",
       " 'Journey',\n",
       " 'to',\n",
       " 'the',\n",
       " 'Interior',\n",
       " 'of',\n",
       " 'the',\n",
       " 'Earth',\n",
       " 'Author',\n",
       " ':',\n",
       " 'Jules',\n",
       " 'Verne',\n",
       " 'Posting',\n",
       " 'Date',\n",
       " ':',\n",
       " 'December',\n",
       " '3',\n",
       " ',',\n",
       " '2010',\n",
       " '[',\n",
       " 'EBook',\n",
       " '#',\n",
       " '3748',\n",
       " ']',\n",
       " 'Release',\n",
       " 'Date',\n",
       " ':',\n",
       " 'February',\n",
       " ',',\n",
       " '2003',\n",
       " '[',\n",
       " 'Last',\n",
       " 'updated',\n",
       " ':',\n",
       " 'August',\n",
       " '19',\n",
       " ',',\n",
       " '2011',\n",
       " ']',\n",
       " 'Language',\n",
       " ':',\n",
       " 'English',\n",
       " '***',\n",
       " 'START',\n",
       " 'OF',\n",
       " 'THIS',\n",
       " 'PROJECT',\n",
       " 'GUTENBERG',\n",
       " 'EBOOK',\n",
       " 'A',\n",
       " 'JOURNEY',\n",
       " 'TO',\n",
       " 'THE',\n",
       " 'INTERIOR',\n",
       " '***',\n",
       " 'Produced',\n",
       " 'by',\n",
       " 'Norman',\n",
       " 'M.',\n",
       " 'Wolcott',\n",
       " '.',\n",
       " 'A',\n",
       " 'Journey',\n",
       " 'into',\n",
       " 'the',\n",
       " 'Interior',\n",
       " 'of',\n",
       " 'the',\n",
       " 'Earth',\n",
       " 'by',\n",
       " 'Jules',\n",
       " 'Verne',\n",
       " '[',\n",
       " 'Redactor',\n",
       " \"'s\",\n",
       " 'Note',\n",
       " ':',\n",
       " 'The',\n",
       " 'following',\n",
       " 'version',\n",
       " 'of',\n",
       " 'Jules',\n",
       " 'Verne',\n",
       " \"'s\",\n",
       " '``',\n",
       " 'Journey',\n",
       " 'into',\n",
       " 'the',\n",
       " 'Interior',\n",
       " 'of',\n",
       " 'the',\n",
       " 'Earth',\n",
       " \"''\",\n",
       " 'wa',\n",
       " 'published',\n",
       " 'by',\n",
       " 'Ward',\n",
       " ',',\n",
       " 'Lock',\n",
       " ',',\n",
       " '&',\n",
       " 'Co.',\n",
       " ',',\n",
       " 'Ltd.',\n",
       " ',',\n",
       " 'London',\n",
       " ',',\n",
       " 'in',\n",
       " '1877',\n",
       " '.',\n",
       " 'This',\n",
       " 'version',\n",
       " 'is',\n",
       " 'believed',\n",
       " 'to',\n",
       " 'be',\n",
       " 'the',\n",
       " 'most',\n",
       " 'faithful',\n",
       " 'rendition',\n",
       " 'into',\n",
       " 'English',\n",
       " 'of',\n",
       " 'this',\n",
       " 'classic',\n",
       " 'currently',\n",
       " 'in',\n",
       " 'the',\n",
       " 'public',\n",
       " 'domain',\n",
       " '.',\n",
       " 'The',\n",
       " 'few',\n",
       " 'note',\n",
       " 'of',\n",
       " 'the',\n",
       " 'translator',\n",
       " 'are',\n",
       " 'located',\n",
       " 'near',\n",
       " 'the',\n",
       " 'point',\n",
       " 'where',\n",
       " 'they',\n",
       " 'are',\n",
       " 'referenced',\n",
       " '.',\n",
       " 'The',\n",
       " 'Runic',\n",
       " 'character',\n",
       " 'in',\n",
       " 'Chapter',\n",
       " 'III',\n",
       " 'are',\n",
       " 'visible',\n",
       " 'in',\n",
       " 'the',\n",
       " 'HTML',\n",
       " 'version',\n",
       " 'of',\n",
       " 'the',\n",
       " 'text',\n",
       " '.',\n",
       " 'The',\n",
       " 'character',\n",
       " 'set',\n",
       " 'is',\n",
       " 'ISO-8891-1',\n",
       " ',',\n",
       " 'mainly',\n",
       " 'the',\n",
       " 'Windows',\n",
       " 'character',\n",
       " 'set',\n",
       " '.',\n",
       " 'The',\n",
       " 'translation',\n",
       " 'is',\n",
       " 'by',\n",
       " 'Frederick',\n",
       " 'Amadeus',\n",
       " 'Malleson',\n",
       " '.',\n",
       " 'While',\n",
       " 'the',\n",
       " 'translation',\n",
       " 'is',\n",
       " 'fairly',\n",
       " 'literal',\n",
       " ',',\n",
       " 'and',\n",
       " 'Malleson',\n",
       " '(',\n",
       " 'a',\n",
       " 'clergyman',\n",
       " ')',\n",
       " 'ha',\n",
       " 'taken',\n",
       " 'pain',\n",
       " 'with',\n",
       " 'the',\n",
       " 'scientific',\n",
       " 'portion',\n",
       " 'of',\n",
       " 'the',\n",
       " 'work',\n",
       " 'and',\n",
       " 'added',\n",
       " 'the',\n",
       " 'chapter',\n",
       " 'heading',\n",
       " ',',\n",
       " 'he',\n",
       " 'ha',\n",
       " 'made',\n",
       " 'some',\n",
       " 'unfortunate',\n",
       " 'emendation',\n",
       " 'mainly',\n",
       " 'concerning',\n",
       " 'biblical',\n",
       " 'reference',\n",
       " ',',\n",
       " 'and',\n",
       " 'ha',\n",
       " 'added',\n",
       " 'a',\n",
       " 'few',\n",
       " \"'improvements\",\n",
       " \"'\",\n",
       " 'of',\n",
       " 'his',\n",
       " 'own',\n",
       " ',',\n",
       " 'which',\n",
       " 'are',\n",
       " 'detailed',\n",
       " 'below',\n",
       " ':',\n",
       " 'III',\n",
       " '.',\n",
       " '``',\n",
       " '_pertubata',\n",
       " 'seu',\n",
       " 'inordinata',\n",
       " ',',\n",
       " '_',\n",
       " \"''\",\n",
       " 'a',\n",
       " 'Euclid',\n",
       " 'ha',\n",
       " 'it',\n",
       " '.',\n",
       " \"''\",\n",
       " 'XXX',\n",
       " '.',\n",
       " 'cry',\n",
       " ',',\n",
       " '``',\n",
       " 'Thalatta',\n",
       " '!',\n",
       " 'thalatta',\n",
       " '!',\n",
       " \"''\",\n",
       " 'the',\n",
       " 'sea',\n",
       " '!',\n",
       " 'the',\n",
       " 'sea',\n",
       " '!',\n",
       " 'The',\n",
       " 'deeply',\n",
       " 'indented',\n",
       " 'shore',\n",
       " 'wa',\n",
       " 'lined',\n",
       " 'with',\n",
       " 'a',\n",
       " 'breadth',\n",
       " 'of',\n",
       " 'fine',\n",
       " 'shining',\n",
       " 'sand',\n",
       " ',',\n",
       " 'softly',\n",
       " 'XXXII',\n",
       " '.',\n",
       " 'hippopotamus',\n",
       " '.',\n",
       " '{',\n",
       " 'a',\n",
       " 'if',\n",
       " 'the',\n",
       " 'creator',\n",
       " ',',\n",
       " 'pressed',\n",
       " 'for',\n",
       " 'time',\n",
       " 'in',\n",
       " 'the',\n",
       " 'first',\n",
       " 'hour',\n",
       " 'of',\n",
       " 'the',\n",
       " 'world',\n",
       " ',',\n",
       " 'had',\n",
       " 'assembled',\n",
       " 'several',\n",
       " 'animal',\n",
       " 'into',\n",
       " 'one',\n",
       " '.',\n",
       " '}',\n",
       " 'The',\n",
       " 'colossal',\n",
       " 'mastodon',\n",
       " 'XXXII',\n",
       " '.',\n",
       " 'I',\n",
       " 'return',\n",
       " 'to',\n",
       " 'the',\n",
       " 'scriptural',\n",
       " 'period',\n",
       " 'or',\n",
       " 'age',\n",
       " 'of',\n",
       " 'the',\n",
       " 'world',\n",
       " ',',\n",
       " 'conventionally',\n",
       " 'called',\n",
       " \"'days\",\n",
       " ',',\n",
       " \"'\",\n",
       " 'long',\n",
       " 'before',\n",
       " 'the',\n",
       " 'appearance',\n",
       " 'of',\n",
       " 'man',\n",
       " 'when',\n",
       " 'the',\n",
       " 'unfinished',\n",
       " 'world',\n",
       " 'wa',\n",
       " 'a',\n",
       " 'yet',\n",
       " 'unfitted',\n",
       " 'for',\n",
       " 'his',\n",
       " 'support',\n",
       " '.',\n",
       " '{',\n",
       " 'I',\n",
       " 'return',\n",
       " 'to',\n",
       " 'the',\n",
       " 'biblical',\n",
       " 'epoch',\n",
       " 'of',\n",
       " 'the',\n",
       " 'creation',\n",
       " ',',\n",
       " 'well',\n",
       " 'in',\n",
       " 'advance',\n",
       " 'of',\n",
       " 'the',\n",
       " 'birth',\n",
       " 'of',\n",
       " 'man',\n",
       " ',',\n",
       " 'when',\n",
       " 'the',\n",
       " 'incomplete',\n",
       " 'earth',\n",
       " 'wa',\n",
       " 'not',\n",
       " 'yet',\n",
       " 'sufficient',\n",
       " 'for',\n",
       " 'him',\n",
       " '.',\n",
       " '}',\n",
       " 'XXXVIII',\n",
       " '.',\n",
       " '(',\n",
       " 'footnote',\n",
       " ')',\n",
       " ',',\n",
       " 'and',\n",
       " 'which',\n",
       " 'is',\n",
       " 'illustrated',\n",
       " 'in',\n",
       " 'the',\n",
       " 'negro',\n",
       " 'countenance',\n",
       " 'and',\n",
       " 'in',\n",
       " 'the',\n",
       " 'lowest',\n",
       " 'savage',\n",
       " '.',\n",
       " 'XXXIX',\n",
       " '.',\n",
       " 'of',\n",
       " 'the',\n",
       " 'geologic',\n",
       " 'period',\n",
       " '.',\n",
       " '{',\n",
       " 'antediluvian',\n",
       " '}',\n",
       " '(',\n",
       " 'These',\n",
       " 'correction',\n",
       " 'have',\n",
       " 'kindly',\n",
       " 'been',\n",
       " 'pointed',\n",
       " 'out',\n",
       " 'by',\n",
       " 'Christian',\n",
       " 'Sánchez',\n",
       " '<',\n",
       " 'chvsanchez',\n",
       " '@',\n",
       " 'arnet.com.ar',\n",
       " '>',\n",
       " 'of',\n",
       " 'the',\n",
       " 'Jules',\n",
       " 'Verne',\n",
       " 'Forum',\n",
       " '.',\n",
       " ')',\n",
       " ']',\n",
       " '--',\n",
       " '--',\n",
       " '--',\n",
       " '--',\n",
       " '--',\n",
       " '--',\n",
       " '--',\n",
       " '--',\n",
       " '--',\n",
       " '--',\n",
       " '--',\n",
       " '--',\n",
       " '--',\n",
       " '--',\n",
       " '--',\n",
       " '--',\n",
       " '--',\n",
       " '--',\n",
       " '--',\n",
       " '--',\n",
       " '--',\n",
       " '--',\n",
       " '--',\n",
       " '--',\n",
       " '--',\n",
       " '--',\n",
       " '--',\n",
       " '--',\n",
       " '--',\n",
       " '--',\n",
       " '--',\n",
       " '--',\n",
       " '--',\n",
       " '--',\n",
       " '--',\n",
       " 'A',\n",
       " 'JOURNEY',\n",
       " 'INTO',\n",
       " 'THE',\n",
       " 'INTERIOR',\n",
       " 'OF',\n",
       " 'THE',\n",
       " 'EARTH',\n",
       " 'by',\n",
       " 'Jules',\n",
       " 'Verne',\n",
       " '--',\n",
       " '--',\n",
       " '--',\n",
       " '--',\n",
       " '--',\n",
       " '--',\n",
       " '--',\n",
       " '--',\n",
       " '--',\n",
       " '--',\n",
       " '--',\n",
       " '--',\n",
       " '--',\n",
       " '--',\n",
       " '--',\n",
       " '--',\n",
       " '--',\n",
       " '--',\n",
       " '--',\n",
       " '--',\n",
       " '--',\n",
       " '--',\n",
       " '--',\n",
       " '--',\n",
       " '--',\n",
       " '--',\n",
       " '--',\n",
       " '--',\n",
       " '--',\n",
       " '--',\n",
       " '--',\n",
       " '--',\n",
       " '--',\n",
       " '--',\n",
       " '--',\n",
       " 'PREFACE',\n",
       " 'THE',\n",
       " '``',\n",
       " 'Voyages',\n",
       " 'Extraordinaires',\n",
       " \"''\",\n",
       " 'of',\n",
       " 'M.',\n",
       " 'Jules',\n",
       " 'Verne',\n",
       " 'deserve',\n",
       " 'to',\n",
       " 'be',\n",
       " 'made',\n",
       " 'widely',\n",
       " 'known',\n",
       " 'in',\n",
       " 'English-speaking',\n",
       " 'country',\n",
       " 'by',\n",
       " 'mean',\n",
       " 'of',\n",
       " 'carefully',\n",
       " 'prepared',\n",
       " 'translation',\n",
       " '.',\n",
       " 'Witty',\n",
       " 'and',\n",
       " 'ingenious',\n",
       " 'adaptation',\n",
       " 'of',\n",
       " 'the',\n",
       " 'research',\n",
       " 'and',\n",
       " 'discovery',\n",
       " 'of',\n",
       " 'modern',\n",
       " 'science',\n",
       " 'to',\n",
       " 'the',\n",
       " 'popular',\n",
       " 'taste',\n",
       " ',',\n",
       " 'which',\n",
       " 'demand',\n",
       " 'that',\n",
       " 'these',\n",
       " 'should',\n",
       " 'be',\n",
       " 'presented',\n",
       " 'to',\n",
       " 'ordinary',\n",
       " 'reader',\n",
       " 'in',\n",
       " 'the',\n",
       " 'lighter',\n",
       " 'form',\n",
       " 'of',\n",
       " 'cleverly',\n",
       " 'mingled',\n",
       " 'truth',\n",
       " 'and',\n",
       " 'fiction',\n",
       " ',',\n",
       " 'these',\n",
       " 'book',\n",
       " 'will',\n",
       " 'assuredly',\n",
       " 'be',\n",
       " 'read',\n",
       " 'with',\n",
       " 'profit',\n",
       " 'and',\n",
       " 'delight',\n",
       " ',',\n",
       " 'especially',\n",
       " 'by',\n",
       " 'English',\n",
       " 'youth',\n",
       " '.',\n",
       " 'Certainly',\n",
       " 'no',\n",
       " 'writer',\n",
       " 'before',\n",
       " 'M.',\n",
       " 'Jules',\n",
       " 'Verne',\n",
       " 'ha',\n",
       " 'been',\n",
       " 'so',\n",
       " 'happy',\n",
       " 'in',\n",
       " 'weaving',\n",
       " 'together',\n",
       " 'in',\n",
       " 'judicious',\n",
       " 'combination',\n",
       " 'severe',\n",
       " 'scientific',\n",
       " 'truth',\n",
       " 'with',\n",
       " 'a',\n",
       " 'charming',\n",
       " 'exercise',\n",
       " 'of',\n",
       " 'playful',\n",
       " 'imagination',\n",
       " '.',\n",
       " 'Iceland',\n",
       " ',',\n",
       " 'the',\n",
       " 'starting',\n",
       " 'point',\n",
       " 'of',\n",
       " 'the',\n",
       " 'marvellous',\n",
       " 'underground',\n",
       " 'journey',\n",
       " 'imagined',\n",
       " 'in',\n",
       " 'this',\n",
       " 'volume',\n",
       " ',',\n",
       " 'is',\n",
       " 'invested',\n",
       " 'at',\n",
       " 'the',\n",
       " 'present',\n",
       " 'time',\n",
       " 'with',\n",
       " 'a',\n",
       " 'painful',\n",
       " 'interest',\n",
       " 'in',\n",
       " 'consequence',\n",
       " 'of',\n",
       " 'the',\n",
       " 'disastrous',\n",
       " 'eruption',\n",
       " 'last',\n",
       " 'Easter',\n",
       " 'Day',\n",
       " ',',\n",
       " 'which',\n",
       " 'covered',\n",
       " 'with',\n",
       " 'lava',\n",
       " 'and',\n",
       " 'ash',\n",
       " 'the',\n",
       " 'poor',\n",
       " 'and',\n",
       " 'scanty',\n",
       " 'vegetation',\n",
       " 'upon',\n",
       " 'which',\n",
       " 'four',\n",
       " 'thousand',\n",
       " 'person',\n",
       " 'were',\n",
       " 'partly',\n",
       " 'dependent',\n",
       " 'for',\n",
       " 'the',\n",
       " 'mean',\n",
       " 'of',\n",
       " 'subsistence',\n",
       " '.',\n",
       " 'For',\n",
       " 'a',\n",
       " 'long',\n",
       " 'time',\n",
       " 'to',\n",
       " 'come',\n",
       " 'the',\n",
       " 'native',\n",
       " 'of',\n",
       " 'that',\n",
       " 'interesting',\n",
       " 'island',\n",
       " ',',\n",
       " 'who',\n",
       " 'cleave',\n",
       " 'to',\n",
       " 'their',\n",
       " 'desert',\n",
       " 'home',\n",
       " 'with',\n",
       " 'all',\n",
       " 'that',\n",
       " '_amor',\n",
       " 'patriae_',\n",
       " 'which',\n",
       " 'is',\n",
       " 'so',\n",
       " 'much',\n",
       " 'more',\n",
       " 'easily',\n",
       " 'understood',\n",
       " 'than',\n",
       " 'explained',\n",
       " ',',\n",
       " 'will',\n",
       " 'look',\n",
       " ',',\n",
       " 'and',\n",
       " 'look',\n",
       " 'not',\n",
       " 'in',\n",
       " 'vain',\n",
       " ',',\n",
       " 'for',\n",
       " 'the',\n",
       " 'help',\n",
       " 'of',\n",
       " 'those',\n",
       " 'on',\n",
       " 'whom',\n",
       " 'fall',\n",
       " 'the',\n",
       " 'smile',\n",
       " 'of',\n",
       " 'a',\n",
       " 'kindlier',\n",
       " 'sun',\n",
       " 'in',\n",
       " 'region',\n",
       " 'not',\n",
       " 'torn',\n",
       " 'by',\n",
       " 'earthquake',\n",
       " 'nor',\n",
       " 'blasted',\n",
       " 'and',\n",
       " 'ravaged',\n",
       " 'by',\n",
       " 'volcanic',\n",
       " 'fire',\n",
       " '.',\n",
       " 'Will',\n",
       " 'the',\n",
       " 'reader',\n",
       " 'of',\n",
       " 'this',\n",
       " 'little',\n",
       " 'book',\n",
       " ',',\n",
       " 'who',\n",
       " ',',\n",
       " 'are',\n",
       " 'gifted',\n",
       " 'with',\n",
       " 'the',\n",
       " 'mean',\n",
       " 'of',\n",
       " 'indulging',\n",
       " 'in',\n",
       " 'the',\n",
       " 'luxury',\n",
       " 'of',\n",
       " 'extended',\n",
       " 'beneficence',\n",
       " ',',\n",
       " 'remember',\n",
       " 'the',\n",
       " 'distress',\n",
       " 'of',\n",
       " 'their',\n",
       " 'brother',\n",
       " 'in',\n",
       " 'the',\n",
       " 'far',\n",
       " 'north',\n",
       " ',',\n",
       " 'whom',\n",
       " 'distance',\n",
       " 'ha',\n",
       " 'not',\n",
       " 'barred',\n",
       " 'from',\n",
       " 'the',\n",
       " 'claim',\n",
       " 'of',\n",
       " 'being',\n",
       " 'counted',\n",
       " 'our',\n",
       " '``',\n",
       " 'neighbour',\n",
       " \"''\",\n",
       " '?',\n",
       " 'And',\n",
       " 'whatever',\n",
       " 'their',\n",
       " 'humane',\n",
       " 'feeling',\n",
       " 'may',\n",
       " 'prompt',\n",
       " 'them',\n",
       " 'to',\n",
       " 'bestow',\n",
       " 'will',\n",
       " 'be',\n",
       " 'gladly',\n",
       " 'added',\n",
       " 'to',\n",
       " 'the',\n",
       " 'Mansion-House',\n",
       " 'Iceland',\n",
       " 'Relief',\n",
       " 'Fund',\n",
       " '.',\n",
       " 'In',\n",
       " 'his',\n",
       " 'desire',\n",
       " 'to',\n",
       " 'ascertain',\n",
       " 'how',\n",
       " 'far',\n",
       " 'the',\n",
       " 'picture',\n",
       " 'of',\n",
       " 'Iceland',\n",
       " ',',\n",
       " 'drawn',\n",
       " 'in',\n",
       " 'the',\n",
       " 'work',\n",
       " 'of',\n",
       " 'Jules',\n",
       " 'Verne',\n",
       " 'is',\n",
       " 'a',\n",
       " 'correct',\n",
       " 'one',\n",
       " ',',\n",
       " 'the',\n",
       " 'translator',\n",
       " 'hope',\n",
       " 'in',\n",
       " 'the',\n",
       " 'course',\n",
       " 'of',\n",
       " 'a',\n",
       " 'mail',\n",
       " 'or',\n",
       " 'two',\n",
       " 'to',\n",
       " 'receive',\n",
       " 'a',\n",
       " 'communication',\n",
       " 'from',\n",
       " 'a',\n",
       " 'leading',\n",
       " 'man',\n",
       " 'of',\n",
       " 'science',\n",
       " 'in',\n",
       " 'the',\n",
       " 'island',\n",
       " ',',\n",
       " 'which',\n",
       " 'may',\n",
       " 'furnish',\n",
       " 'matter',\n",
       " 'for',\n",
       " 'additional',\n",
       " 'information',\n",
       " 'in',\n",
       " 'a',\n",
       " 'future',\n",
       " 'edition',\n",
       " '.',\n",
       " 'The',\n",
       " 'scientific',\n",
       " 'portion',\n",
       " 'of',\n",
       " 'the',\n",
       " 'French',\n",
       " 'original',\n",
       " 'is',\n",
       " 'not',\n",
       " 'without',\n",
       " 'a',\n",
       " 'few',\n",
       " 'error',\n",
       " ',',\n",
       " 'which',\n",
       " 'the',\n",
       " 'translator',\n",
       " ',',\n",
       " 'with',\n",
       " 'the',\n",
       " 'kind',\n",
       " 'assistance',\n",
       " 'of',\n",
       " 'Mr.',\n",
       " 'Cameron',\n",
       " 'of',\n",
       " 'H.',\n",
       " 'M.',\n",
       " 'Geological',\n",
       " 'Survey',\n",
       " ',',\n",
       " 'ha',\n",
       " 'ventured',\n",
       " 'to',\n",
       " 'point',\n",
       " 'out',\n",
       " 'and',\n",
       " 'correct',\n",
       " '.',\n",
       " 'It',\n",
       " 'is',\n",
       " 'scarcely',\n",
       " 'to',\n",
       " 'be',\n",
       " ...]"
      ]
     },
     "execution_count": 49,
     "metadata": {},
     "output_type": "execute_result"
    }
   ],
   "source": [
    "wnl = nltk.WordNetLemmatizer()\n",
    "[wnl.lemmatize(t) for t in tokens]"
   ]
  },
  {
   "cell_type": "markdown",
   "metadata": {},
   "source": [
    "----"
   ]
  },
  {
   "cell_type": "markdown",
   "metadata": {
    "collapsed": true
   },
   "source": [
    "# Matriz de confusión"
   ]
  },
  {
   "cell_type": "markdown",
   "metadata": {},
   "source": [
    "confusion_matrix(y_true, y_pred) calcula la matriz de confusión a partir de las clases reales y las predichas"
   ]
  },
  {
   "cell_type": "code",
   "execution_count": 50,
   "metadata": {},
   "outputs": [
    {
     "data": {
      "text/plain": [
       "array([[211,   0,   0,   1,   0,   1,   0,   1,   1,   1,   1,   3,   0,\n",
       "          6,   4,  71,   5,  11,   0,   2],\n",
       "       [  1, 279,  12,  10,   9,  21,   3,   2,   0,   4,   0,  20,   9,\n",
       "          1,  11,   3,   2,   2,   0,   0],\n",
       "       [  0,  21, 271,  40,   6,  15,   1,   1,   3,   4,   2,  18,   1,\n",
       "          0,   6,   3,   2,   0,   0,   0],\n",
       "       [  0,   6,  17, 312,  14,   3,   8,   3,   1,   0,   2,   7,  13,\n",
       "          0,   6,   0,   0,   0,   0,   0],\n",
       "       [  0,   2,   7,  19, 316,   1,   8,   6,   0,   2,   2,   8,   8,\n",
       "          1,   3,   0,   2,   0,   0,   0],\n",
       "       [  1,  28,  12,  12,   3, 312,   1,   0,   1,   1,   0,  14,   0,\n",
       "          1,   5,   2,   2,   0,   0,   0],\n",
       "       [  0,   3,   3,  32,  12,   0, 292,  16,   5,   1,   5,   2,   7,\n",
       "          6,   2,   3,   1,   0,   0,   0],\n",
       "       [  0,   1,   0,   1,   0,   0,   4, 367,   4,   2,   2,   3,   4,\n",
       "          1,   2,   0,   4,   0,   1,   0],\n",
       "       [  0,   0,   0,   1,   0,   0,   3,   9, 382,   0,   0,   1,   1,\n",
       "          0,   0,   0,   1,   0,   0,   0],\n",
       "       [  0,   0,   0,   0,   1,   0,   2,   3,   0, 366,  20,   0,   0,\n",
       "          0,   2,   1,   1,   1,   0,   0],\n",
       "       [  0,   0,   0,   0,   0,   0,   0,   0,   0,   3, 391,   1,   0,\n",
       "          0,   1,   3,   0,   0,   0,   0],\n",
       "       [  0,   2,   1,   0,   0,   1,   1,   3,   1,   1,   0, 384,   1,\n",
       "          0,   0,   0,   1,   0,   0,   0],\n",
       "       [  0,   6,   4,  21,   6,   0,   6,   6,   7,   1,   1,  53, 258,\n",
       "          4,  11,   6,   1,   2,   0,   0],\n",
       "       [  2,   1,   0,   2,   1,   3,   2,   0,   4,   5,   6,   6,   7,\n",
       "        314,   7,  27,   4,   4,   1,   0],\n",
       "       [  0,   5,   0,   0,   0,   3,   0,   1,   1,   0,   0,   3,   1,\n",
       "          2, 371,   5,   1,   0,   1,   0],\n",
       "       [  2,   1,   1,   1,   0,   0,   0,   1,   1,   0,   0,   0,   1,\n",
       "          1,   2, 386,   0,   0,   0,   1],\n",
       "       [  0,   0,   0,   1,   0,   0,   2,   0,   2,   1,   1,   6,   0,\n",
       "          1,   1,   3, 343,   2,   1,   0],\n",
       "       [  0,   1,   0,   0,   0,   1,   0,   0,   0,   1,   1,   1,   0,\n",
       "          0,   0,  13,   3, 353,   2,   0],\n",
       "       [  2,   0,   0,   0,   0,   0,   0,   1,   0,   1,   0,   9,   0,\n",
       "          1,  10,  11, 120,   5, 150,   0],\n",
       "       [ 40,   2,   1,   0,   0,   0,   0,   0,   0,   1,   2,   2,   0,\n",
       "          3,   6, 102,  31,   4,   3,  54]], dtype=int64)"
      ]
     },
     "execution_count": 50,
     "metadata": {},
     "output_type": "execute_result"
    }
   ],
   "source": [
    "from sklearn.metrics import confusion_matrix\n",
    "conf_matrix = confusion_matrix(twenty_test.target, predicted_mnb_stemmed)\n",
    "conf_matrix"
   ]
  },
  {
   "cell_type": "markdown",
   "metadata": {},
   "source": [
    "Veamos un ejemplo más simple\n"
   ]
  },
  {
   "cell_type": "code",
   "execution_count": 51,
   "metadata": {},
   "outputs": [
    {
     "data": {
      "text/plain": [
       "array([[1, 0, 0],\n",
       "       [1, 0, 0],\n",
       "       [0, 1, 2]], dtype=int64)"
      ]
     },
     "execution_count": 51,
     "metadata": {},
     "output_type": "execute_result"
    }
   ],
   "source": [
    "y_true = [0, 1, 2, 2, 2]\n",
    "y_pred = [0, 0, 2, 2, 1]\n",
    "confusion_matrix(y_true, y_pred)"
   ]
  },
  {
   "cell_type": "markdown",
   "metadata": {},
   "source": [
    "Obtenemos algunas métricas sobre la matriz"
   ]
  },
  {
   "cell_type": "code",
   "execution_count": 52,
   "metadata": {},
   "outputs": [
    {
     "name": "stdout",
     "output_type": "stream",
     "text": [
      "             precision    recall  f1-score   support\n",
      "\n",
      "    class 0       0.50      1.00      0.67         1\n",
      "    class 1       0.00      0.00      0.00         1\n",
      "    class 2       1.00      0.67      0.80         3\n",
      "\n",
      "avg / total       0.70      0.60      0.61         5\n",
      "\n"
     ]
    }
   ],
   "source": [
    "from sklearn.metrics import classification_report\n",
    "y_true = [0, 1, 2, 2, 2]\n",
    "y_pred = [0, 0, 2, 2, 1]\n",
    "target_names = ['class 0', 'class 1', 'class 2']\n",
    "print(classification_report(y_true, y_pred, target_names=target_names))"
   ]
  },
  {
   "cell_type": "markdown",
   "metadata": {},
   "source": [
    "NOTA: Los promedios se calculan utilizando el valor de la métrica para cada clase, pesado por el soporte"
   ]
  },
  {
   "cell_type": "markdown",
   "metadata": {},
   "source": [
    "En el caso de 20 newsgroups..."
   ]
  },
  {
   "cell_type": "code",
   "execution_count": 53,
   "metadata": {},
   "outputs": [
    {
     "name": "stdout",
     "output_type": "stream",
     "text": [
      "                          precision    recall  f1-score   support\n",
      "\n",
      "             alt.atheism       0.81      0.66      0.73       319\n",
      "           comp.graphics       0.78      0.72      0.75       389\n",
      " comp.os.ms-windows.misc       0.82      0.69      0.75       394\n",
      "comp.sys.ibm.pc.hardware       0.69      0.80      0.74       392\n",
      "   comp.sys.mac.hardware       0.86      0.82      0.84       385\n",
      "          comp.windows.x       0.86      0.79      0.83       395\n",
      "            misc.forsale       0.88      0.75      0.81       390\n",
      "               rec.autos       0.87      0.93      0.90       396\n",
      "         rec.motorcycles       0.92      0.96      0.94       398\n",
      "      rec.sport.baseball       0.93      0.92      0.92       397\n",
      "        rec.sport.hockey       0.90      0.98      0.94       399\n",
      "               sci.crypt       0.71      0.97      0.82       396\n",
      "         sci.electronics       0.83      0.66      0.73       393\n",
      "                 sci.med       0.92      0.79      0.85       396\n",
      "               sci.space       0.82      0.94      0.88       394\n",
      "  soc.religion.christian       0.60      0.97      0.74       398\n",
      "      talk.politics.guns       0.65      0.94      0.77       364\n",
      "   talk.politics.mideast       0.92      0.94      0.93       376\n",
      "      talk.politics.misc       0.94      0.48      0.64       310\n",
      "      talk.religion.misc       0.95      0.22      0.35       251\n",
      "\n",
      "             avg / total       0.83      0.81      0.80      7532\n",
      "\n"
     ]
    }
   ],
   "source": [
    "from sklearn.metrics import classification_report\n",
    "print(classification_report(twenty_test.target, predicted_mnb_stemmed, target_names=twenty_train.target_names))"
   ]
  },
  {
   "cell_type": "markdown",
   "metadata": {},
   "source": [
    "# Hold out"
   ]
  },
  {
   "cell_type": "markdown",
   "metadata": {},
   "source": [
    "Primero descargamos el dataset completo"
   ]
  },
  {
   "cell_type": "code",
   "execution_count": 54,
   "metadata": {},
   "outputs": [
    {
     "name": "stdout",
     "output_type": "stream",
     "text": [
      "18846\n"
     ]
    }
   ],
   "source": [
    "twenty_all = fetch_20newsgroups(subset='all', shuffle=True)\n",
    "print(len(twenty_all.data))"
   ]
  },
  {
   "cell_type": "markdown",
   "metadata": {},
   "source": [
    "Utilizamos el método **train_test_split** que recibe el porcentaje de datos que queremos para prueba (o entrenamiento) y devuelve los datos separados en instancias (y clases) para prueba y para entrenamiento (de forma aleatoria y estratificada)"
   ]
  },
  {
   "cell_type": "code",
   "execution_count": 61,
   "metadata": {},
   "outputs": [
    {
     "name": "stdout",
     "output_type": "stream",
     "text": [
      "Cantidad de datos de entrenamiento:  15076\n",
      "Cantidad de datos de prueba:  3770\n"
     ]
    }
   ],
   "source": [
    "from sklearn.pipeline import Pipeline\n",
    "from sklearn.feature_extraction.text import CountVectorizer\n",
    "from sklearn.feature_extraction.text import TfidfTransformer\n",
    "from sklearn.naive_bayes import MultinomialNB\n",
    "text_clf = Pipeline([('vect', CountVectorizer()), ('tfidf', TfidfTransformer()), ('clf', MultinomialNB())])\n",
    "\n",
    "\n",
    "from sklearn.model_selection import train_test_split\n",
    "X_train, X_test, y_train, y_test = train_test_split(twenty_all.data, twenty_all.target, test_size=0.20)\n",
    "\n",
    "print(\"Cantidad de datos de entrenamiento: \",len(X_train))\n",
    "print(\"Cantidad de datos de prueba: \",len(X_test))"
   ]
  },
  {
   "cell_type": "code",
   "execution_count": 62,
   "metadata": {},
   "outputs": [],
   "source": [
    "text_clf = text_clf.fit(X_train, y_train)"
   ]
  },
  {
   "cell_type": "code",
   "execution_count": 63,
   "metadata": {},
   "outputs": [
    {
     "name": "stdout",
     "output_type": "stream",
     "text": [
      "0.8538461538461538\n"
     ]
    }
   ],
   "source": [
    "predicted = text_clf.predict(X_test)\n",
    "\n",
    "import numpy as np\n",
    "print(np.mean(predicted == y_test))"
   ]
  },
  {
   "cell_type": "markdown",
   "metadata": {},
   "source": [
    "# Validación Cruzada"
   ]
  },
  {
   "cell_type": "markdown",
   "metadata": {},
   "source": [
    "La forma más sencilla de usar la validación cruzada es utilizar función **cross_val_score** en el estimador y el conjunto de datos.\n",
    "\n",
    "El siguiente ejemplo muestra cómo estimar la precisión de un clasificador bayesiano, ajustando un modelo y calculando el score 5 veces consecutivas (con diferentes divisiones cada vez):"
   ]
  },
  {
   "cell_type": "code",
   "execution_count": 64,
   "metadata": {},
   "outputs": [
    {
     "name": "stdout",
     "output_type": "stream",
     "text": [
      "[0.85456954 0.86164856 0.85623342 0.84997345 0.84742158]\n"
     ]
    }
   ],
   "source": [
    "from sklearn.feature_extraction.text import TfidfVectorizer\n",
    "twenty_all = fetch_20newsgroups(subset='all', shuffle=True)\n",
    "X = TfidfVectorizer()\n",
    "X = X.fit_transform(twenty_all.data)\n",
    "\n",
    "from sklearn.naive_bayes import MultinomialNB\n",
    "clf = MultinomialNB()\n",
    "\n",
    "from sklearn.model_selection import cross_val_score\n",
    "scores = cross_val_score(clf, X, twenty_all.target, cv=5)\n",
    "\n",
    "print(scores)                                              "
   ]
  },
  {
   "attachments": {},
   "cell_type": "markdown",
   "metadata": {},
   "source": [
    "Podemos calcular entonces la media y el intervalo de confianza del 95% de cada uno de los clasificadores individuales:"
   ]
  },
  {
   "cell_type": "code",
   "execution_count": 65,
   "metadata": {},
   "outputs": [
    {
     "name": "stdout",
     "output_type": "stream",
     "text": [
      "Accuracy: 0.85 (+/- 0.01)\n"
     ]
    }
   ],
   "source": [
    "print(\"Accuracy: %0.2f (+/- %0.2f)\" % (scores.mean(), scores.std() * 2))"
   ]
  },
  {
   "cell_type": "markdown",
   "metadata": {},
   "source": [
    "Por defecto, el score calculado en cada iteración de CV es el método de score del estimador. Es posible cambiar esto usando el parámetro **score**. Por ejemplo podemos calcular la métrica F1 $$F1 = 2 * (precision * recall) / (precision + recall)$$\n",
    "\n",
    "En este caso, en que la clasificación no es binaria, se debe calcular un promedio para las diferentes clases. Para determinar cómo se calcula este promedio, hay diferentes opciones\n",
    "\n",
    "**micro**: Calcula la métrica globalmente contando el total de verdaderos positivos, falsos negativos y falsos positivos.\n",
    "\n",
    "**macro**: Calcula la métrica para cada etiqueta y luego calcula la media. No considera desbalance de clases.\n",
    "\n",
    "**weighted**: Calcula la métrica para cada etiqueta, calcula el promedio y los pesa por soporte (la cantidad de instancias verdaderas para cada etiqueta. Esto lo diferencia de **macro** para tener en cuenta el desbalance de clases. Puede resultar en un valor F-score que no se encuentre entre el valor de precisión y el valor de recall\n",
    "\n",
    "**samples**: Calcula la métrica por cada instancia, y luego calcula el promedio (solo tiene sentido para clasificación multietiqueta donde este valor difiere del accuracy."
   ]
  },
  {
   "cell_type": "code",
   "execution_count": 66,
   "metadata": {},
   "outputs": [
    {
     "name": "stdout",
     "output_type": "stream",
     "text": [
      "[0.84216861 0.83827895 0.83653434 0.83566105 0.83873968]\n"
     ]
    }
   ],
   "source": [
    "scores_f1 = cross_val_score(clf, X_train_tfidf, twenty_train.target, cv=5, scoring='f1_weighted')\n",
    "print(scores_f1)"
   ]
  },
  {
   "cell_type": "markdown",
   "metadata": {},
   "source": [
    "Probamos diferentes tipos de validación cruzada: No estratificada, estratificada y aleatoria"
   ]
  },
  {
   "cell_type": "code",
   "execution_count": 67,
   "metadata": {},
   "outputs": [
    {
     "name": "stdout",
     "output_type": "stream",
     "text": [
      "[0.83457052 0.81808539 0.8236542 ]\n",
      "[0.83470199 0.82374768 0.82156134]\n",
      "[0.85865724 0.84452297 0.85070671]\n",
      "\n",
      "Accuracy K-Fold: 0.825 (+/- 0.014)\n",
      "Accuracy Stratified K-Fold: 0.827 (+/- 0.011)\n",
      "Accuracy Suffle Split: 0.851 (+/- 0.012)\n"
     ]
    }
   ],
   "source": [
    "from sklearn.model_selection import StratifiedKFold\n",
    "from sklearn.model_selection import KFold\n",
    "from sklearn.model_selection import ShuffleSplit\n",
    "\n",
    "cv_kfold = KFold(n_splits=3)\n",
    "cv_strat = StratifiedKFold(n_splits=3)\n",
    "cv_suffle = ShuffleSplit(n_splits=3)\n",
    "\n",
    "scores_kfold = cross_val_score(clf, X_train_tfidf, twenty_train.target, cv=cv_kfold)\n",
    "scores_strat = cross_val_score(clf, X_train_tfidf, twenty_train.target, cv=cv_strat)\n",
    "scores_suffle = cross_val_score(clf, X_train_tfidf, twenty_train.target, cv=cv_suffle)\n",
    "\n",
    "print(scores_kfold)\n",
    "print(scores_strat)\n",
    "print(scores_suffle)\n",
    "print()\n",
    "print(\"Accuracy K-Fold: %0.3f (+/- %0.3f)\" % (scores_kfold.mean(), scores_kfold.std() * 2))\n",
    "print(\"Accuracy Stratified K-Fold: %0.3f (+/- %0.3f)\" % (scores_strat.mean(), scores_strat.std() * 2))\n",
    "print(\"Accuracy Suffle Split: %0.3f (+/- %0.3f)\" % (scores_suffle.mean(), scores_suffle.std() * 2))"
   ]
  },
  {
   "cell_type": "markdown",
   "metadata": {},
   "source": [
    "***\n",
    "La función **cross_validate** difiere de **cross_val_score** de dos maneras:\n",
    "\n",
    "1. Permite especificar múltiples métricas para la evaluación.\n",
    "2. Devuelve un dict que contiene los scores de entrenamiento, tiempos de entrenamiento, tiempos de calcuar los scores y los scores de la prueba.\n",
    "\n",
    "Si evaluamos una unica métrica (pasando un string al parámetro score, una función o None), las claves serán - ['test_score', 'fit_time', 'score_time']\n",
    "\n",
    "Si evaluamos múltiples métricas, el valor de retorno es un dict con las siguientes claves: ['test_ <scorer1_name>', 'test_ <scorer2_name>', 'test_ <scorer ...>', 'fit_time', 'score_time']\n",
    "\n"
   ]
  },
  {
   "cell_type": "code",
   "execution_count": 68,
   "metadata": {},
   "outputs": [
    {
     "data": {
      "text/plain": [
       "{'fit_time': array([0.32739472, 0.27578306, 0.26429963, 0.22309256, 0.25033712]),\n",
       " 'score_time': array([0.09475279, 0.09725761, 0.09023929, 0.06020212, 0.059659  ]),\n",
       " 'test_precision_macro': array([0.87766701, 0.87604061, 0.87798795, 0.87708132, 0.88266551]),\n",
       " 'test_recall_macro': array([0.83275965, 0.82696938, 0.82694664, 0.82367647, 0.82724057])}"
      ]
     },
     "execution_count": 68,
     "metadata": {},
     "output_type": "execute_result"
    }
   ],
   "source": [
    "from sklearn.model_selection import cross_validate\n",
    "from sklearn.metrics import recall_score\n",
    "scoring = ['precision_macro', 'recall_macro']\n",
    "clf = MultinomialNB()\n",
    "scores = cross_validate(clf, X_train_tfidf, twenty_train.target, scoring=scoring, cv=5, return_train_score=False)\n",
    "scores\n",
    "                   \n"
   ]
  },
  {
   "cell_type": "markdown",
   "metadata": {},
   "source": [
    "## Práctica"
   ]
  },
  {
   "cell_type": "markdown",
   "metadata": {},
   "source": [
    "1. Descargar el siguiente dataset:\n",
    " - http://www.cs.cornell.edu/people/pabo/movie-review-data/review_polarity.tar.gz\n",
    "2. Escribir un Pipeline que permita clasificar las reviews de las películas como positivas o negativas.\n",
    "3. Buscar una buena configuración de parámetros para el clasificador elegido utilizando grid search.\n",
    "4. Evaluar la performance del clasificador utilizando la técnica de hold out (75/25)\n",
    "5. Evaluar la performance del clasificador utilizando validación cruzada.\n",
    "\n",
    "Nota: para cargar documentos de texto con categorías, scikit-learn provee el método **load_files(data_folder)**, que asume que dentro de \"data_folder\" hay una carpeta por cada clase posible, y dentro de esa carpeta se encuentran los documentos de texto plano"
   ]
  },
  {
   "cell_type": "code",
   "execution_count": null,
   "metadata": {},
   "outputs": [],
   "source": []
  }
 ],
 "metadata": {
  "kernelspec": {
   "display_name": "Python 3",
   "language": "python",
   "name": "python3"
  },
  "language_info": {
   "codemirror_mode": {
    "name": "ipython",
    "version": 3
   },
   "file_extension": ".py",
   "mimetype": "text/x-python",
   "name": "python",
   "nbconvert_exporter": "python",
   "pygments_lexer": "ipython3",
   "version": "3.6.4"
  }
 },
 "nbformat": 4,
 "nbformat_minor": 2
}
